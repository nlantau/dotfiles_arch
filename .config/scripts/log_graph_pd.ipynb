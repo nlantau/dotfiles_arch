{
 "metadata": {
  "language_info": {
   "codemirror_mode": {
    "name": "ipython",
    "version": 3
   },
   "file_extension": ".py",
   "mimetype": "text/x-python",
   "name": "python",
   "nbconvert_exporter": "python",
   "pygments_lexer": "ipython3",
   "version": "3.9.5-final"
  },
  "orig_nbformat": 2,
  "kernelspec": {
   "name": "python39364bite340d006181d4e7ca39051b43255528a",
   "display_name": "Python 3.9.3 64-bit"
  }
 },
 "nbformat": 4,
 "nbformat_minor": 2,
 "cells": [
  {
   "cell_type": "code",
   "execution_count": 93,
   "metadata": {},
   "outputs": [],
   "source": [
    "import pandas as pd\n",
    "import os\n",
    "import glob"
   ]
  },
  {
   "cell_type": "code",
   "execution_count": 94,
   "metadata": {},
   "outputs": [
    {
     "output_type": "execute_result",
     "data": {
      "text/plain": [
       "'/home/nlantau/.config/scripts/log_data'"
      ]
     },
     "metadata": {},
     "execution_count": 94
    }
   ],
   "source": [
    "currdir = os.path.curdir\n",
    "filepath = os.path.join(os.getcwd(), \"log_data\")\n",
    "filepath"
   ]
  },
  {
   "cell_type": "code",
   "execution_count": 95,
   "metadata": {},
   "outputs": [],
   "source": [
    "filepaths = sorted(glob.glob(filepath + '/2021*.log'))"
   ]
  },
  {
   "cell_type": "code",
   "execution_count": 123,
   "metadata": {},
   "outputs": [
    {
     "output_type": "execute_result",
     "data": {
      "text/plain": [
       "Empty DataFrame\n",
       "Columns: [(2021-05-09,), (2021-05-10,), (2021-05-11,), (2021-05-12,), (2021-05-13,), (2021-05-14,), (2021-05-15,), (2021-05-16,), (2021-05-17,), (2021-05-18,), (2021-05-19,), (2021-05-20,), (2021-05-21,), (2021-05-22,), (2021-05-23,), (2021-05-24,), (2021-05-25,), (2021-05-26,), (2021-05-27,), (2021-05-28,), (2021-05-29,), (2021-05-30,), (2021-05-31,), (2021-06-01,), (2021-06-02,), (2021-06-03,), (2021-06-04,), (2021-06-05,), (2021-06-06,), (2021-06-07,), (2021-06-08,), (2021-06-09,), (2021-06-10,), (2021-06-11,), (2021-06-12,), (2021-06-13,), (2021-06-14,), (2021-06-15,), (2021-06-16,), (2021-06-17,), (2021-06-18,), (2021-06-19,), (2021-06-20,), (2021-06-21,)]\n",
       "Index: []\n",
       "\n",
       "[0 rows x 44 columns]"
      ],
      "text/html": "<div>\n<style scoped>\n    .dataframe tbody tr th:only-of-type {\n        vertical-align: middle;\n    }\n\n    .dataframe tbody tr th {\n        vertical-align: top;\n    }\n\n    .dataframe thead tr th {\n        text-align: left;\n    }\n</style>\n<table border=\"1\" class=\"dataframe\">\n  <thead>\n    <tr>\n      <th></th>\n      <th>2021-05-09</th>\n      <th>2021-05-10</th>\n      <th>2021-05-11</th>\n      <th>2021-05-12</th>\n      <th>2021-05-13</th>\n      <th>2021-05-14</th>\n      <th>2021-05-15</th>\n      <th>2021-05-16</th>\n      <th>2021-05-17</th>\n      <th>2021-05-18</th>\n      <th>...</th>\n      <th>2021-06-12</th>\n      <th>2021-06-13</th>\n      <th>2021-06-14</th>\n      <th>2021-06-15</th>\n      <th>2021-06-16</th>\n      <th>2021-06-17</th>\n      <th>2021-06-18</th>\n      <th>2021-06-19</th>\n      <th>2021-06-20</th>\n      <th>2021-06-21</th>\n    </tr>\n  </thead>\n  <tbody>\n  </tbody>\n</table>\n<p>0 rows × 44 columns</p>\n</div>"
     },
     "metadata": {},
     "execution_count": 123
    }
   ],
   "source": [
    "dates = pd.DataFrame()\n",
    "date = [file.strip(filepath) for file in filepaths]\n",
    "dates = pd.DataFrame(columns=[date])\n",
    "dates.head()"
   ]
  },
  {
   "cell_type": "code",
   "execution_count": 125,
   "metadata": {
    "tags": []
   },
   "outputs": [],
   "source": [
    "for i,f in enumerate(filepaths):\n",
    "    fs = f.strip(filepath)\n",
    "    #print(fs)\n",
    "    with open(f, 'r') as r:\n",
    "        all_minutes_of_the_day = r.readlines()\n",
    "        all_minutes_of_the_day = [line.strip() for line in all_minutes_of_the_day]\n",
    "        dates. = len(all_minutes_of_the_day)\n",
    "        #print(len(all_minutes_of_the_day))\n",
    "        dates"
   ]
  },
  {
   "cell_type": "code",
   "execution_count": 126,
   "metadata": {},
   "outputs": [
    {
     "output_type": "execute_result",
     "data": {
      "text/plain": [
       "   2021-05-09 2021-05-10 2021-05-11 2021-05-12 2021-05-13 2021-05-14  \\\n",
       "0          38         38         38         38         38         38   \n",
       "1         628        628        628        628        628        628   \n",
       "2         675        675        675        675        675        675   \n",
       "3         511        511        511        511        511        511   \n",
       "4         706        706        706        706        706        706   \n",
       "5         560        560        560        560        560        560   \n",
       "6         647        647        647        647        647        647   \n",
       "7         633        633        633        633        633        633   \n",
       "8         688        688        688        688        688        688   \n",
       "9         711        711        711        711        711        711   \n",
       "10        645        645        645        645        645        645   \n",
       "11        648        648        648        648        648        648   \n",
       "12        351        351        351        351        351        351   \n",
       "13        770        770        770        770        770        770   \n",
       "14        327        327        327        327        327        327   \n",
       "15        790        790        790        790        790        790   \n",
       "16        653        653        653        653        653        653   \n",
       "17        479        479        479        479        479        479   \n",
       "18        727        727        727        727        727        727   \n",
       "19        729        729        729        729        729        729   \n",
       "20        251        251        251        251        251        251   \n",
       "21        510        510        510        510        510        510   \n",
       "22        657        657        657        657        657        657   \n",
       "23        324        324        324        324        324        324   \n",
       "24        577        577        577        577        577        577   \n",
       "25        504        504        504        504        504        504   \n",
       "26        602        602        602        602        602        602   \n",
       "27        189        189        189        189        189        189   \n",
       "28        215        215        215        215        215        215   \n",
       "29        240        240        240        240        240        240   \n",
       "30        598        598        598        598        598        598   \n",
       "31        644        644        644        644        644        644   \n",
       "32        660        660        660        660        660        660   \n",
       "33        406        406        406        406        406        406   \n",
       "34         71         71         71         71         71         71   \n",
       "35        550        550        550        550        550        550   \n",
       "36        473        473        473        473        473        473   \n",
       "37        534        534        534        534        534        534   \n",
       "38        388        388        388        388        388        388   \n",
       "39        410        410        410        410        410        410   \n",
       "40        472        472        472        472        472        472   \n",
       "41        481        481        481        481        481        481   \n",
       "42        152        152        152        152        152        152   \n",
       "43         56         56         56         56         56         56   \n",
       "\n",
       "   2021-05-15 2021-05-16 2021-05-17 2021-05-18  ... 2021-06-12 2021-06-13  \\\n",
       "0          38         38         38         38  ...         38         38   \n",
       "1         628        628        628        628  ...        628        628   \n",
       "2         675        675        675        675  ...        675        675   \n",
       "3         511        511        511        511  ...        511        511   \n",
       "4         706        706        706        706  ...        706        706   \n",
       "5         560        560        560        560  ...        560        560   \n",
       "6         647        647        647        647  ...        647        647   \n",
       "7         633        633        633        633  ...        633        633   \n",
       "8         688        688        688        688  ...        688        688   \n",
       "9         711        711        711        711  ...        711        711   \n",
       "10        645        645        645        645  ...        645        645   \n",
       "11        648        648        648        648  ...        648        648   \n",
       "12        351        351        351        351  ...        351        351   \n",
       "13        770        770        770        770  ...        770        770   \n",
       "14        327        327        327        327  ...        327        327   \n",
       "15        790        790        790        790  ...        790        790   \n",
       "16        653        653        653        653  ...        653        653   \n",
       "17        479        479        479        479  ...        479        479   \n",
       "18        727        727        727        727  ...        727        727   \n",
       "19        729        729        729        729  ...        729        729   \n",
       "20        251        251        251        251  ...        251        251   \n",
       "21        510        510        510        510  ...        510        510   \n",
       "22        657        657        657        657  ...        657        657   \n",
       "23        324        324        324        324  ...        324        324   \n",
       "24        577        577        577        577  ...        577        577   \n",
       "25        504        504        504        504  ...        504        504   \n",
       "26        602        602        602        602  ...        602        602   \n",
       "27        189        189        189        189  ...        189        189   \n",
       "28        215        215        215        215  ...        215        215   \n",
       "29        240        240        240        240  ...        240        240   \n",
       "30        598        598        598        598  ...        598        598   \n",
       "31        644        644        644        644  ...        644        644   \n",
       "32        660        660        660        660  ...        660        660   \n",
       "33        406        406        406        406  ...        406        406   \n",
       "34         71         71         71         71  ...         71         71   \n",
       "35        550        550        550        550  ...        550        550   \n",
       "36        473        473        473        473  ...        473        473   \n",
       "37        534        534        534        534  ...        534        534   \n",
       "38        388        388        388        388  ...        388        388   \n",
       "39        410        410        410        410  ...        410        410   \n",
       "40        472        472        472        472  ...        472        472   \n",
       "41        481        481        481        481  ...        481        481   \n",
       "42        152        152        152        152  ...        152        152   \n",
       "43         56         56         56         56  ...         56         56   \n",
       "\n",
       "   2021-06-14 2021-06-15 2021-06-16 2021-06-17 2021-06-18 2021-06-19  \\\n",
       "0          38         38         38         38         38         38   \n",
       "1         628        628        628        628        628        628   \n",
       "2         675        675        675        675        675        675   \n",
       "3         511        511        511        511        511        511   \n",
       "4         706        706        706        706        706        706   \n",
       "5         560        560        560        560        560        560   \n",
       "6         647        647        647        647        647        647   \n",
       "7         633        633        633        633        633        633   \n",
       "8         688        688        688        688        688        688   \n",
       "9         711        711        711        711        711        711   \n",
       "10        645        645        645        645        645        645   \n",
       "11        648        648        648        648        648        648   \n",
       "12        351        351        351        351        351        351   \n",
       "13        770        770        770        770        770        770   \n",
       "14        327        327        327        327        327        327   \n",
       "15        790        790        790        790        790        790   \n",
       "16        653        653        653        653        653        653   \n",
       "17        479        479        479        479        479        479   \n",
       "18        727        727        727        727        727        727   \n",
       "19        729        729        729        729        729        729   \n",
       "20        251        251        251        251        251        251   \n",
       "21        510        510        510        510        510        510   \n",
       "22        657        657        657        657        657        657   \n",
       "23        324        324        324        324        324        324   \n",
       "24        577        577        577        577        577        577   \n",
       "25        504        504        504        504        504        504   \n",
       "26        602        602        602        602        602        602   \n",
       "27        189        189        189        189        189        189   \n",
       "28        215        215        215        215        215        215   \n",
       "29        240        240        240        240        240        240   \n",
       "30        598        598        598        598        598        598   \n",
       "31        644        644        644        644        644        644   \n",
       "32        660        660        660        660        660        660   \n",
       "33        406        406        406        406        406        406   \n",
       "34         71         71         71         71         71         71   \n",
       "35        550        550        550        550        550        550   \n",
       "36        473        473        473        473        473        473   \n",
       "37        534        534        534        534        534        534   \n",
       "38        388        388        388        388        388        388   \n",
       "39        410        410        410        410        410        410   \n",
       "40        472        472        472        472        472        472   \n",
       "41        481        481        481        481        481        481   \n",
       "42        152        152        152        152        152        152   \n",
       "43         56         56         56         56         56         56   \n",
       "\n",
       "   2021-06-20 2021-06-21  \n",
       "0          38         38  \n",
       "1         628        628  \n",
       "2         675        675  \n",
       "3         511        511  \n",
       "4         706        706  \n",
       "5         560        560  \n",
       "6         647        647  \n",
       "7         633        633  \n",
       "8         688        688  \n",
       "9         711        711  \n",
       "10        645        645  \n",
       "11        648        648  \n",
       "12        351        351  \n",
       "13        770        770  \n",
       "14        327        327  \n",
       "15        790        790  \n",
       "16        653        653  \n",
       "17        479        479  \n",
       "18        727        727  \n",
       "19        729        729  \n",
       "20        251        251  \n",
       "21        510        510  \n",
       "22        657        657  \n",
       "23        324        324  \n",
       "24        577        577  \n",
       "25        504        504  \n",
       "26        602        602  \n",
       "27        189        189  \n",
       "28        215        215  \n",
       "29        240        240  \n",
       "30        598        598  \n",
       "31        644        644  \n",
       "32        660        660  \n",
       "33        406        406  \n",
       "34         71         71  \n",
       "35        550        550  \n",
       "36        473        473  \n",
       "37        534        534  \n",
       "38        388        388  \n",
       "39        410        410  \n",
       "40        472        472  \n",
       "41        481        481  \n",
       "42        152        152  \n",
       "43         56         56  \n",
       "\n",
       "[44 rows x 44 columns]"
      ],
      "text/html": "<div>\n<style scoped>\n    .dataframe tbody tr th:only-of-type {\n        vertical-align: middle;\n    }\n\n    .dataframe tbody tr th {\n        vertical-align: top;\n    }\n\n    .dataframe thead tr th {\n        text-align: left;\n    }\n</style>\n<table border=\"1\" class=\"dataframe\">\n  <thead>\n    <tr>\n      <th></th>\n      <th>2021-05-09</th>\n      <th>2021-05-10</th>\n      <th>2021-05-11</th>\n      <th>2021-05-12</th>\n      <th>2021-05-13</th>\n      <th>2021-05-14</th>\n      <th>2021-05-15</th>\n      <th>2021-05-16</th>\n      <th>2021-05-17</th>\n      <th>2021-05-18</th>\n      <th>...</th>\n      <th>2021-06-12</th>\n      <th>2021-06-13</th>\n      <th>2021-06-14</th>\n      <th>2021-06-15</th>\n      <th>2021-06-16</th>\n      <th>2021-06-17</th>\n      <th>2021-06-18</th>\n      <th>2021-06-19</th>\n      <th>2021-06-20</th>\n      <th>2021-06-21</th>\n    </tr>\n  </thead>\n  <tbody>\n    <tr>\n      <th>0</th>\n      <td>38</td>\n      <td>38</td>\n      <td>38</td>\n      <td>38</td>\n      <td>38</td>\n      <td>38</td>\n      <td>38</td>\n      <td>38</td>\n      <td>38</td>\n      <td>38</td>\n      <td>...</td>\n      <td>38</td>\n      <td>38</td>\n      <td>38</td>\n      <td>38</td>\n      <td>38</td>\n      <td>38</td>\n      <td>38</td>\n      <td>38</td>\n      <td>38</td>\n      <td>38</td>\n    </tr>\n    <tr>\n      <th>1</th>\n      <td>628</td>\n      <td>628</td>\n      <td>628</td>\n      <td>628</td>\n      <td>628</td>\n      <td>628</td>\n      <td>628</td>\n      <td>628</td>\n      <td>628</td>\n      <td>628</td>\n      <td>...</td>\n      <td>628</td>\n      <td>628</td>\n      <td>628</td>\n      <td>628</td>\n      <td>628</td>\n      <td>628</td>\n      <td>628</td>\n      <td>628</td>\n      <td>628</td>\n      <td>628</td>\n    </tr>\n    <tr>\n      <th>2</th>\n      <td>675</td>\n      <td>675</td>\n      <td>675</td>\n      <td>675</td>\n      <td>675</td>\n      <td>675</td>\n      <td>675</td>\n      <td>675</td>\n      <td>675</td>\n      <td>675</td>\n      <td>...</td>\n      <td>675</td>\n      <td>675</td>\n      <td>675</td>\n      <td>675</td>\n      <td>675</td>\n      <td>675</td>\n      <td>675</td>\n      <td>675</td>\n      <td>675</td>\n      <td>675</td>\n    </tr>\n    <tr>\n      <th>3</th>\n      <td>511</td>\n      <td>511</td>\n      <td>511</td>\n      <td>511</td>\n      <td>511</td>\n      <td>511</td>\n      <td>511</td>\n      <td>511</td>\n      <td>511</td>\n      <td>511</td>\n      <td>...</td>\n      <td>511</td>\n      <td>511</td>\n      <td>511</td>\n      <td>511</td>\n      <td>511</td>\n      <td>511</td>\n      <td>511</td>\n      <td>511</td>\n      <td>511</td>\n      <td>511</td>\n    </tr>\n    <tr>\n      <th>4</th>\n      <td>706</td>\n      <td>706</td>\n      <td>706</td>\n      <td>706</td>\n      <td>706</td>\n      <td>706</td>\n      <td>706</td>\n      <td>706</td>\n      <td>706</td>\n      <td>706</td>\n      <td>...</td>\n      <td>706</td>\n      <td>706</td>\n      <td>706</td>\n      <td>706</td>\n      <td>706</td>\n      <td>706</td>\n      <td>706</td>\n      <td>706</td>\n      <td>706</td>\n      <td>706</td>\n    </tr>\n    <tr>\n      <th>5</th>\n      <td>560</td>\n      <td>560</td>\n      <td>560</td>\n      <td>560</td>\n      <td>560</td>\n      <td>560</td>\n      <td>560</td>\n      <td>560</td>\n      <td>560</td>\n      <td>560</td>\n      <td>...</td>\n      <td>560</td>\n      <td>560</td>\n      <td>560</td>\n      <td>560</td>\n      <td>560</td>\n      <td>560</td>\n      <td>560</td>\n      <td>560</td>\n      <td>560</td>\n      <td>560</td>\n    </tr>\n    <tr>\n      <th>6</th>\n      <td>647</td>\n      <td>647</td>\n      <td>647</td>\n      <td>647</td>\n      <td>647</td>\n      <td>647</td>\n      <td>647</td>\n      <td>647</td>\n      <td>647</td>\n      <td>647</td>\n      <td>...</td>\n      <td>647</td>\n      <td>647</td>\n      <td>647</td>\n      <td>647</td>\n      <td>647</td>\n      <td>647</td>\n      <td>647</td>\n      <td>647</td>\n      <td>647</td>\n      <td>647</td>\n    </tr>\n    <tr>\n      <th>7</th>\n      <td>633</td>\n      <td>633</td>\n      <td>633</td>\n      <td>633</td>\n      <td>633</td>\n      <td>633</td>\n      <td>633</td>\n      <td>633</td>\n      <td>633</td>\n      <td>633</td>\n      <td>...</td>\n      <td>633</td>\n      <td>633</td>\n      <td>633</td>\n      <td>633</td>\n      <td>633</td>\n      <td>633</td>\n      <td>633</td>\n      <td>633</td>\n      <td>633</td>\n      <td>633</td>\n    </tr>\n    <tr>\n      <th>8</th>\n      <td>688</td>\n      <td>688</td>\n      <td>688</td>\n      <td>688</td>\n      <td>688</td>\n      <td>688</td>\n      <td>688</td>\n      <td>688</td>\n      <td>688</td>\n      <td>688</td>\n      <td>...</td>\n      <td>688</td>\n      <td>688</td>\n      <td>688</td>\n      <td>688</td>\n      <td>688</td>\n      <td>688</td>\n      <td>688</td>\n      <td>688</td>\n      <td>688</td>\n      <td>688</td>\n    </tr>\n    <tr>\n      <th>9</th>\n      <td>711</td>\n      <td>711</td>\n      <td>711</td>\n      <td>711</td>\n      <td>711</td>\n      <td>711</td>\n      <td>711</td>\n      <td>711</td>\n      <td>711</td>\n      <td>711</td>\n      <td>...</td>\n      <td>711</td>\n      <td>711</td>\n      <td>711</td>\n      <td>711</td>\n      <td>711</td>\n      <td>711</td>\n      <td>711</td>\n      <td>711</td>\n      <td>711</td>\n      <td>711</td>\n    </tr>\n    <tr>\n      <th>10</th>\n      <td>645</td>\n      <td>645</td>\n      <td>645</td>\n      <td>645</td>\n      <td>645</td>\n      <td>645</td>\n      <td>645</td>\n      <td>645</td>\n      <td>645</td>\n      <td>645</td>\n      <td>...</td>\n      <td>645</td>\n      <td>645</td>\n      <td>645</td>\n      <td>645</td>\n      <td>645</td>\n      <td>645</td>\n      <td>645</td>\n      <td>645</td>\n      <td>645</td>\n      <td>645</td>\n    </tr>\n    <tr>\n      <th>11</th>\n      <td>648</td>\n      <td>648</td>\n      <td>648</td>\n      <td>648</td>\n      <td>648</td>\n      <td>648</td>\n      <td>648</td>\n      <td>648</td>\n      <td>648</td>\n      <td>648</td>\n      <td>...</td>\n      <td>648</td>\n      <td>648</td>\n      <td>648</td>\n      <td>648</td>\n      <td>648</td>\n      <td>648</td>\n      <td>648</td>\n      <td>648</td>\n      <td>648</td>\n      <td>648</td>\n    </tr>\n    <tr>\n      <th>12</th>\n      <td>351</td>\n      <td>351</td>\n      <td>351</td>\n      <td>351</td>\n      <td>351</td>\n      <td>351</td>\n      <td>351</td>\n      <td>351</td>\n      <td>351</td>\n      <td>351</td>\n      <td>...</td>\n      <td>351</td>\n      <td>351</td>\n      <td>351</td>\n      <td>351</td>\n      <td>351</td>\n      <td>351</td>\n      <td>351</td>\n      <td>351</td>\n      <td>351</td>\n      <td>351</td>\n    </tr>\n    <tr>\n      <th>13</th>\n      <td>770</td>\n      <td>770</td>\n      <td>770</td>\n      <td>770</td>\n      <td>770</td>\n      <td>770</td>\n      <td>770</td>\n      <td>770</td>\n      <td>770</td>\n      <td>770</td>\n      <td>...</td>\n      <td>770</td>\n      <td>770</td>\n      <td>770</td>\n      <td>770</td>\n      <td>770</td>\n      <td>770</td>\n      <td>770</td>\n      <td>770</td>\n      <td>770</td>\n      <td>770</td>\n    </tr>\n    <tr>\n      <th>14</th>\n      <td>327</td>\n      <td>327</td>\n      <td>327</td>\n      <td>327</td>\n      <td>327</td>\n      <td>327</td>\n      <td>327</td>\n      <td>327</td>\n      <td>327</td>\n      <td>327</td>\n      <td>...</td>\n      <td>327</td>\n      <td>327</td>\n      <td>327</td>\n      <td>327</td>\n      <td>327</td>\n      <td>327</td>\n      <td>327</td>\n      <td>327</td>\n      <td>327</td>\n      <td>327</td>\n    </tr>\n    <tr>\n      <th>15</th>\n      <td>790</td>\n      <td>790</td>\n      <td>790</td>\n      <td>790</td>\n      <td>790</td>\n      <td>790</td>\n      <td>790</td>\n      <td>790</td>\n      <td>790</td>\n      <td>790</td>\n      <td>...</td>\n      <td>790</td>\n      <td>790</td>\n      <td>790</td>\n      <td>790</td>\n      <td>790</td>\n      <td>790</td>\n      <td>790</td>\n      <td>790</td>\n      <td>790</td>\n      <td>790</td>\n    </tr>\n    <tr>\n      <th>16</th>\n      <td>653</td>\n      <td>653</td>\n      <td>653</td>\n      <td>653</td>\n      <td>653</td>\n      <td>653</td>\n      <td>653</td>\n      <td>653</td>\n      <td>653</td>\n      <td>653</td>\n      <td>...</td>\n      <td>653</td>\n      <td>653</td>\n      <td>653</td>\n      <td>653</td>\n      <td>653</td>\n      <td>653</td>\n      <td>653</td>\n      <td>653</td>\n      <td>653</td>\n      <td>653</td>\n    </tr>\n    <tr>\n      <th>17</th>\n      <td>479</td>\n      <td>479</td>\n      <td>479</td>\n      <td>479</td>\n      <td>479</td>\n      <td>479</td>\n      <td>479</td>\n      <td>479</td>\n      <td>479</td>\n      <td>479</td>\n      <td>...</td>\n      <td>479</td>\n      <td>479</td>\n      <td>479</td>\n      <td>479</td>\n      <td>479</td>\n      <td>479</td>\n      <td>479</td>\n      <td>479</td>\n      <td>479</td>\n      <td>479</td>\n    </tr>\n    <tr>\n      <th>18</th>\n      <td>727</td>\n      <td>727</td>\n      <td>727</td>\n      <td>727</td>\n      <td>727</td>\n      <td>727</td>\n      <td>727</td>\n      <td>727</td>\n      <td>727</td>\n      <td>727</td>\n      <td>...</td>\n      <td>727</td>\n      <td>727</td>\n      <td>727</td>\n      <td>727</td>\n      <td>727</td>\n      <td>727</td>\n      <td>727</td>\n      <td>727</td>\n      <td>727</td>\n      <td>727</td>\n    </tr>\n    <tr>\n      <th>19</th>\n      <td>729</td>\n      <td>729</td>\n      <td>729</td>\n      <td>729</td>\n      <td>729</td>\n      <td>729</td>\n      <td>729</td>\n      <td>729</td>\n      <td>729</td>\n      <td>729</td>\n      <td>...</td>\n      <td>729</td>\n      <td>729</td>\n      <td>729</td>\n      <td>729</td>\n      <td>729</td>\n      <td>729</td>\n      <td>729</td>\n      <td>729</td>\n      <td>729</td>\n      <td>729</td>\n    </tr>\n    <tr>\n      <th>20</th>\n      <td>251</td>\n      <td>251</td>\n      <td>251</td>\n      <td>251</td>\n      <td>251</td>\n      <td>251</td>\n      <td>251</td>\n      <td>251</td>\n      <td>251</td>\n      <td>251</td>\n      <td>...</td>\n      <td>251</td>\n      <td>251</td>\n      <td>251</td>\n      <td>251</td>\n      <td>251</td>\n      <td>251</td>\n      <td>251</td>\n      <td>251</td>\n      <td>251</td>\n      <td>251</td>\n    </tr>\n    <tr>\n      <th>21</th>\n      <td>510</td>\n      <td>510</td>\n      <td>510</td>\n      <td>510</td>\n      <td>510</td>\n      <td>510</td>\n      <td>510</td>\n      <td>510</td>\n      <td>510</td>\n      <td>510</td>\n      <td>...</td>\n      <td>510</td>\n      <td>510</td>\n      <td>510</td>\n      <td>510</td>\n      <td>510</td>\n      <td>510</td>\n      <td>510</td>\n      <td>510</td>\n      <td>510</td>\n      <td>510</td>\n    </tr>\n    <tr>\n      <th>22</th>\n      <td>657</td>\n      <td>657</td>\n      <td>657</td>\n      <td>657</td>\n      <td>657</td>\n      <td>657</td>\n      <td>657</td>\n      <td>657</td>\n      <td>657</td>\n      <td>657</td>\n      <td>...</td>\n      <td>657</td>\n      <td>657</td>\n      <td>657</td>\n      <td>657</td>\n      <td>657</td>\n      <td>657</td>\n      <td>657</td>\n      <td>657</td>\n      <td>657</td>\n      <td>657</td>\n    </tr>\n    <tr>\n      <th>23</th>\n      <td>324</td>\n      <td>324</td>\n      <td>324</td>\n      <td>324</td>\n      <td>324</td>\n      <td>324</td>\n      <td>324</td>\n      <td>324</td>\n      <td>324</td>\n      <td>324</td>\n      <td>...</td>\n      <td>324</td>\n      <td>324</td>\n      <td>324</td>\n      <td>324</td>\n      <td>324</td>\n      <td>324</td>\n      <td>324</td>\n      <td>324</td>\n      <td>324</td>\n      <td>324</td>\n    </tr>\n    <tr>\n      <th>24</th>\n      <td>577</td>\n      <td>577</td>\n      <td>577</td>\n      <td>577</td>\n      <td>577</td>\n      <td>577</td>\n      <td>577</td>\n      <td>577</td>\n      <td>577</td>\n      <td>577</td>\n      <td>...</td>\n      <td>577</td>\n      <td>577</td>\n      <td>577</td>\n      <td>577</td>\n      <td>577</td>\n      <td>577</td>\n      <td>577</td>\n      <td>577</td>\n      <td>577</td>\n      <td>577</td>\n    </tr>\n    <tr>\n      <th>25</th>\n      <td>504</td>\n      <td>504</td>\n      <td>504</td>\n      <td>504</td>\n      <td>504</td>\n      <td>504</td>\n      <td>504</td>\n      <td>504</td>\n      <td>504</td>\n      <td>504</td>\n      <td>...</td>\n      <td>504</td>\n      <td>504</td>\n      <td>504</td>\n      <td>504</td>\n      <td>504</td>\n      <td>504</td>\n      <td>504</td>\n      <td>504</td>\n      <td>504</td>\n      <td>504</td>\n    </tr>\n    <tr>\n      <th>26</th>\n      <td>602</td>\n      <td>602</td>\n      <td>602</td>\n      <td>602</td>\n      <td>602</td>\n      <td>602</td>\n      <td>602</td>\n      <td>602</td>\n      <td>602</td>\n      <td>602</td>\n      <td>...</td>\n      <td>602</td>\n      <td>602</td>\n      <td>602</td>\n      <td>602</td>\n      <td>602</td>\n      <td>602</td>\n      <td>602</td>\n      <td>602</td>\n      <td>602</td>\n      <td>602</td>\n    </tr>\n    <tr>\n      <th>27</th>\n      <td>189</td>\n      <td>189</td>\n      <td>189</td>\n      <td>189</td>\n      <td>189</td>\n      <td>189</td>\n      <td>189</td>\n      <td>189</td>\n      <td>189</td>\n      <td>189</td>\n      <td>...</td>\n      <td>189</td>\n      <td>189</td>\n      <td>189</td>\n      <td>189</td>\n      <td>189</td>\n      <td>189</td>\n      <td>189</td>\n      <td>189</td>\n      <td>189</td>\n      <td>189</td>\n    </tr>\n    <tr>\n      <th>28</th>\n      <td>215</td>\n      <td>215</td>\n      <td>215</td>\n      <td>215</td>\n      <td>215</td>\n      <td>215</td>\n      <td>215</td>\n      <td>215</td>\n      <td>215</td>\n      <td>215</td>\n      <td>...</td>\n      <td>215</td>\n      <td>215</td>\n      <td>215</td>\n      <td>215</td>\n      <td>215</td>\n      <td>215</td>\n      <td>215</td>\n      <td>215</td>\n      <td>215</td>\n      <td>215</td>\n    </tr>\n    <tr>\n      <th>29</th>\n      <td>240</td>\n      <td>240</td>\n      <td>240</td>\n      <td>240</td>\n      <td>240</td>\n      <td>240</td>\n      <td>240</td>\n      <td>240</td>\n      <td>240</td>\n      <td>240</td>\n      <td>...</td>\n      <td>240</td>\n      <td>240</td>\n      <td>240</td>\n      <td>240</td>\n      <td>240</td>\n      <td>240</td>\n      <td>240</td>\n      <td>240</td>\n      <td>240</td>\n      <td>240</td>\n    </tr>\n    <tr>\n      <th>30</th>\n      <td>598</td>\n      <td>598</td>\n      <td>598</td>\n      <td>598</td>\n      <td>598</td>\n      <td>598</td>\n      <td>598</td>\n      <td>598</td>\n      <td>598</td>\n      <td>598</td>\n      <td>...</td>\n      <td>598</td>\n      <td>598</td>\n      <td>598</td>\n      <td>598</td>\n      <td>598</td>\n      <td>598</td>\n      <td>598</td>\n      <td>598</td>\n      <td>598</td>\n      <td>598</td>\n    </tr>\n    <tr>\n      <th>31</th>\n      <td>644</td>\n      <td>644</td>\n      <td>644</td>\n      <td>644</td>\n      <td>644</td>\n      <td>644</td>\n      <td>644</td>\n      <td>644</td>\n      <td>644</td>\n      <td>644</td>\n      <td>...</td>\n      <td>644</td>\n      <td>644</td>\n      <td>644</td>\n      <td>644</td>\n      <td>644</td>\n      <td>644</td>\n      <td>644</td>\n      <td>644</td>\n      <td>644</td>\n      <td>644</td>\n    </tr>\n    <tr>\n      <th>32</th>\n      <td>660</td>\n      <td>660</td>\n      <td>660</td>\n      <td>660</td>\n      <td>660</td>\n      <td>660</td>\n      <td>660</td>\n      <td>660</td>\n      <td>660</td>\n      <td>660</td>\n      <td>...</td>\n      <td>660</td>\n      <td>660</td>\n      <td>660</td>\n      <td>660</td>\n      <td>660</td>\n      <td>660</td>\n      <td>660</td>\n      <td>660</td>\n      <td>660</td>\n      <td>660</td>\n    </tr>\n    <tr>\n      <th>33</th>\n      <td>406</td>\n      <td>406</td>\n      <td>406</td>\n      <td>406</td>\n      <td>406</td>\n      <td>406</td>\n      <td>406</td>\n      <td>406</td>\n      <td>406</td>\n      <td>406</td>\n      <td>...</td>\n      <td>406</td>\n      <td>406</td>\n      <td>406</td>\n      <td>406</td>\n      <td>406</td>\n      <td>406</td>\n      <td>406</td>\n      <td>406</td>\n      <td>406</td>\n      <td>406</td>\n    </tr>\n    <tr>\n      <th>34</th>\n      <td>71</td>\n      <td>71</td>\n      <td>71</td>\n      <td>71</td>\n      <td>71</td>\n      <td>71</td>\n      <td>71</td>\n      <td>71</td>\n      <td>71</td>\n      <td>71</td>\n      <td>...</td>\n      <td>71</td>\n      <td>71</td>\n      <td>71</td>\n      <td>71</td>\n      <td>71</td>\n      <td>71</td>\n      <td>71</td>\n      <td>71</td>\n      <td>71</td>\n      <td>71</td>\n    </tr>\n    <tr>\n      <th>35</th>\n      <td>550</td>\n      <td>550</td>\n      <td>550</td>\n      <td>550</td>\n      <td>550</td>\n      <td>550</td>\n      <td>550</td>\n      <td>550</td>\n      <td>550</td>\n      <td>550</td>\n      <td>...</td>\n      <td>550</td>\n      <td>550</td>\n      <td>550</td>\n      <td>550</td>\n      <td>550</td>\n      <td>550</td>\n      <td>550</td>\n      <td>550</td>\n      <td>550</td>\n      <td>550</td>\n    </tr>\n    <tr>\n      <th>36</th>\n      <td>473</td>\n      <td>473</td>\n      <td>473</td>\n      <td>473</td>\n      <td>473</td>\n      <td>473</td>\n      <td>473</td>\n      <td>473</td>\n      <td>473</td>\n      <td>473</td>\n      <td>...</td>\n      <td>473</td>\n      <td>473</td>\n      <td>473</td>\n      <td>473</td>\n      <td>473</td>\n      <td>473</td>\n      <td>473</td>\n      <td>473</td>\n      <td>473</td>\n      <td>473</td>\n    </tr>\n    <tr>\n      <th>37</th>\n      <td>534</td>\n      <td>534</td>\n      <td>534</td>\n      <td>534</td>\n      <td>534</td>\n      <td>534</td>\n      <td>534</td>\n      <td>534</td>\n      <td>534</td>\n      <td>534</td>\n      <td>...</td>\n      <td>534</td>\n      <td>534</td>\n      <td>534</td>\n      <td>534</td>\n      <td>534</td>\n      <td>534</td>\n      <td>534</td>\n      <td>534</td>\n      <td>534</td>\n      <td>534</td>\n    </tr>\n    <tr>\n      <th>38</th>\n      <td>388</td>\n      <td>388</td>\n      <td>388</td>\n      <td>388</td>\n      <td>388</td>\n      <td>388</td>\n      <td>388</td>\n      <td>388</td>\n      <td>388</td>\n      <td>388</td>\n      <td>...</td>\n      <td>388</td>\n      <td>388</td>\n      <td>388</td>\n      <td>388</td>\n      <td>388</td>\n      <td>388</td>\n      <td>388</td>\n      <td>388</td>\n      <td>388</td>\n      <td>388</td>\n    </tr>\n    <tr>\n      <th>39</th>\n      <td>410</td>\n      <td>410</td>\n      <td>410</td>\n      <td>410</td>\n      <td>410</td>\n      <td>410</td>\n      <td>410</td>\n      <td>410</td>\n      <td>410</td>\n      <td>410</td>\n      <td>...</td>\n      <td>410</td>\n      <td>410</td>\n      <td>410</td>\n      <td>410</td>\n      <td>410</td>\n      <td>410</td>\n      <td>410</td>\n      <td>410</td>\n      <td>410</td>\n      <td>410</td>\n    </tr>\n    <tr>\n      <th>40</th>\n      <td>472</td>\n      <td>472</td>\n      <td>472</td>\n      <td>472</td>\n      <td>472</td>\n      <td>472</td>\n      <td>472</td>\n      <td>472</td>\n      <td>472</td>\n      <td>472</td>\n      <td>...</td>\n      <td>472</td>\n      <td>472</td>\n      <td>472</td>\n      <td>472</td>\n      <td>472</td>\n      <td>472</td>\n      <td>472</td>\n      <td>472</td>\n      <td>472</td>\n      <td>472</td>\n    </tr>\n    <tr>\n      <th>41</th>\n      <td>481</td>\n      <td>481</td>\n      <td>481</td>\n      <td>481</td>\n      <td>481</td>\n      <td>481</td>\n      <td>481</td>\n      <td>481</td>\n      <td>481</td>\n      <td>481</td>\n      <td>...</td>\n      <td>481</td>\n      <td>481</td>\n      <td>481</td>\n      <td>481</td>\n      <td>481</td>\n      <td>481</td>\n      <td>481</td>\n      <td>481</td>\n      <td>481</td>\n      <td>481</td>\n    </tr>\n    <tr>\n      <th>42</th>\n      <td>152</td>\n      <td>152</td>\n      <td>152</td>\n      <td>152</td>\n      <td>152</td>\n      <td>152</td>\n      <td>152</td>\n      <td>152</td>\n      <td>152</td>\n      <td>152</td>\n      <td>...</td>\n      <td>152</td>\n      <td>152</td>\n      <td>152</td>\n      <td>152</td>\n      <td>152</td>\n      <td>152</td>\n      <td>152</td>\n      <td>152</td>\n      <td>152</td>\n      <td>152</td>\n    </tr>\n    <tr>\n      <th>43</th>\n      <td>56</td>\n      <td>56</td>\n      <td>56</td>\n      <td>56</td>\n      <td>56</td>\n      <td>56</td>\n      <td>56</td>\n      <td>56</td>\n      <td>56</td>\n      <td>56</td>\n      <td>...</td>\n      <td>56</td>\n      <td>56</td>\n      <td>56</td>\n      <td>56</td>\n      <td>56</td>\n      <td>56</td>\n      <td>56</td>\n      <td>56</td>\n      <td>56</td>\n      <td>56</td>\n    </tr>\n  </tbody>\n</table>\n<p>44 rows × 44 columns</p>\n</div>"
     },
     "metadata": {},
     "execution_count": 126
    }
   ],
   "source": [
    "all_minutes_of_the_day\n",
    "dates"
   ]
  },
  {
   "cell_type": "code",
   "execution_count": null,
   "metadata": {},
   "outputs": [],
   "source": []
  }
 ]
}